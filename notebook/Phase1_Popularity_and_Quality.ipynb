version https://git-lfs.github.com/spec/v1
oid sha256:bb80df21b32173bdc78e287f1a6ac8a183f7686b6ef15c8af7c0ee035eea86ed
size 79909
