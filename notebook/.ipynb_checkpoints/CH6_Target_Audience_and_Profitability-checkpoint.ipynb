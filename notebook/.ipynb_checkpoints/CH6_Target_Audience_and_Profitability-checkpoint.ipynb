version https://git-lfs.github.com/spec/v1
oid sha256:0e317dbf1b668873c4237cf316360062ebaa50590bf6cf531cc95a7d3935de1a
size 115403
