version https://git-lfs.github.com/spec/v1
oid sha256:4f23f4e916be6bc6bac515aa59f60b458daf4916a135cec14b03ec8fc66c9dee
size 42319
